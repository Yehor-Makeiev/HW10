{
  "nbformat": 4,
  "nbformat_minor": 0,
  "metadata": {
    "colab": {
      "provenance": [],
      "authorship_tag": "ABX9TyNv5GQagfN7zHT3UL6j5Awi",
      "include_colab_link": true
    },
    "kernelspec": {
      "name": "python3",
      "display_name": "Python 3"
    },
    "language_info": {
      "name": "python"
    }
  },
  "cells": [
    {
      "cell_type": "markdown",
      "metadata": {
        "id": "view-in-github",
        "colab_type": "text"
      },
      "source": [
        "<a href=\"https://colab.research.google.com/github/Yehor-Makeiev/HW10/blob/main/HW3.ipynb\" target=\"_parent\"><img src=\"https://colab.research.google.com/assets/colab-badge.svg\" alt=\"Open In Colab\"/></a>"
      ]
    },
    {
      "cell_type": "code",
      "execution_count": 12,
      "metadata": {
        "id": "rUDnXL7cBh6m"
      },
      "outputs": [],
      "source": [
        "import pandas as pd\n",
        "import numpy as np\n",
        "\n",
        "def linear_regression(x: np.array, w: np.array):\n",
        "    return np.dot(x, w)"
      ]
    },
    {
      "cell_type": "code",
      "source": [
        "def cost(X: np.array, w: np.array, y: np.array):\n",
        "    return np.dot(X.T, (np.dot(X, w) - y)) / len(y)"
      ],
      "metadata": {
        "id": "lLpBoZcQBxYP"
      },
      "execution_count": 13,
      "outputs": []
    },
    {
      "cell_type": "code",
      "source": [
        "def gradient_descent_step(X, w, y, a):\n",
        "    return w - (cost(X, w, y) * a)"
      ],
      "metadata": {
        "id": "vbReQN28Bx8Z"
      },
      "execution_count": 14,
      "outputs": []
    },
    {
      "cell_type": "markdown",
      "source": [],
      "metadata": {
        "id": "7KkixoFlDYDI"
      }
    },
    {
      "cell_type": "code",
      "source": [
        "#preparing data\n",
        "df = pd.read_csv(\"Housing.csv\")\n",
        "y = df[\"price\"].to_numpy()\n",
        "X = df[[\"area\", \"bathrooms\", \"bedrooms\"]].to_numpy()\n",
        "ones = np.ones(len(y))[:, np.newaxis]\n",
        "X = np.concatenate((np.ones(len(y), dtype=int)[:, np.newaxis], X), axis=1)\n",
        "X = X.astype(float)\n",
        "w = np.random.randn(4)\n",
        "a = 1"
      ],
      "metadata": {
        "id": "HY1MKgGtBzd5"
      },
      "execution_count": 15,
      "outputs": []
    },
    {
      "cell_type": "code",
      "source": [
        "#normalizing\n",
        "n = X.mean(axis=0)\n",
        "s = X.max(axis=0) - X.min(axis=0)\n",
        "for i in range(1, 4):\n",
        "    new_x = (X[:, i] - n[i]) / s[i]\n",
        "    X[:, i] = new_x\n",
        "print(X)"
      ],
      "metadata": {
        "colab": {
          "base_uri": "https://localhost:8080/"
        },
        "id": "M6bxq2v5B411",
        "outputId": "ac0705da-2c2a-43f9-bb42-49d974c21a8e"
      },
      "execution_count": 16,
      "outputs": [
        {
          "output_type": "stream",
          "name": "stdout",
          "text": [
            "[[ 1.          0.15597654  0.23792049  0.20697248]\n",
            " [ 1.          0.26181847  0.90458716  0.20697248]\n",
            " [ 1.          0.33054699  0.23792049  0.00697248]\n",
            " ...\n",
            " [ 1.         -0.10519184 -0.09541284 -0.19302752]\n",
            " [ 1.         -0.15398909 -0.09541284  0.00697248]\n",
            " [ 1.         -0.08938428 -0.09541284  0.00697248]]\n"
          ]
        }
      ]
    },
    {
      "cell_type": "code",
      "source": [
        "#testing\n",
        "print(linear_regression(X[0], w))\n",
        "print(cost(X, w, y))\n",
        "print(gradient_descent_step(X, w, y, a))"
      ],
      "metadata": {
        "colab": {
          "base_uri": "https://localhost:8080/"
        },
        "id": "Nrf_vdFEB7z9",
        "outputId": "682635ae-eed8-4559-c478-d0ac3852def6"
      },
      "execution_count": 17,
      "outputs": [
        {
          "output_type": "stream",
          "name": "stdout",
          "text": [
            "0.7772660233723304\n",
            "[-4766729.03287922  -149256.60508665  -161838.89367142  -101003.60919907]\n",
            "[4766729.24770642  149258.37152005  161840.69866763  101002.9205619 ]\n"
          ]
        }
      ]
    },
    {
      "cell_type": "code",
      "source": [
        "#learning\n",
        "w_prev = [0, 0, 0, 0]\n",
        "while not(w==w_prev).all():\n",
        "    w_prev = w\n",
        "    w = gradient_descent_step(X, w, y, a)\n",
        "print(w)"
      ],
      "metadata": {
        "colab": {
          "base_uri": "https://localhost:8080/"
        },
        "id": "9nqUUQcIB8ed",
        "outputId": "6070e9a3-d234-40d3-c025-c6117e1bce0f"
      },
      "execution_count": 20,
      "outputs": [
        {
          "output_type": "stream",
          "name": "stdout",
          "text": [
            "[4766729.24770642 5510998.06466328 4158148.49337298 2034100.16884592]\n"
          ]
        }
      ]
    },
    {
      "cell_type": "code",
      "source": [
        "#finding the weights analiticaly\n",
        "w_an = np.dot(np.dot(np.linalg.inv(np.dot(X.T, X)), X.T), y)\n",
        "print(w_an)\n",
        "# [4766729.24770642 5510998.06466326 4158148.49337299 2034100.1688459]"
      ],
      "metadata": {
        "colab": {
          "base_uri": "https://localhost:8080/"
        },
        "id": "4NEaxJM6CB3e",
        "outputId": "40b9801e-353f-43c5-d799-b370554ba9d0"
      },
      "execution_count": 21,
      "outputs": [
        {
          "output_type": "stream",
          "name": "stdout",
          "text": [
            "[4766729.24770642 5510998.06466325 4158148.493373   2034100.1688459 ]\n"
          ]
        }
      ]
    },
    {
      "cell_type": "code",
      "source": [
        "#comapring\n",
        "diff = (w - w_an) / w * 100\n",
        "print(diff)\n",
        "# [ 0.00000000e+00  1.85892795e-13 -2.68770365e-13  8.01245942e-13]\n",
        "# I think this is acurate enough"
      ],
      "metadata": {
        "colab": {
          "base_uri": "https://localhost:8080/"
        },
        "id": "T6AoJG-oCDid",
        "outputId": "319abec5-e424-4700-f16b-51129bca4afe"
      },
      "execution_count": 22,
      "outputs": [
        {
          "output_type": "stream",
          "name": "stdout",
          "text": [
            "[ 0.00000000e+00  5.40779039e-13 -4.25553078e-13  9.95834242e-13]\n"
          ]
        }
      ]
    }
  ]
}